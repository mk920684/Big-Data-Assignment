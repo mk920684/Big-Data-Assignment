{
 "cells": [
  {
   "cell_type": "code",
   "execution_count": null,
   "id": "e85b2aa9",
   "metadata": {},
   "outputs": [],
   "source": [
    "Q26. What is a string? How can we declare string in Python?\n",
    "\n",
    "String is the group of characters which should be declare within single or double quotes.\n",
    "Ex:\n",
    "    name='Mukesh'"
   ]
  },
  {
   "cell_type": "code",
   "execution_count": null,
   "id": "1145fb53",
   "metadata": {},
   "outputs": [],
   "source": [
    "Q27. How can we access the string using its index?\n",
    "\n",
    "(Assumed question is about accessing characters within string.)\n",
    "\n",
    "We can use index position to access characters of string\n",
    "name='Mukesh'\n",
    "name[0]"
   ]
  },
  {
   "cell_type": "code",
   "execution_count": 8,
   "id": "4f9bda73",
   "metadata": {},
   "outputs": [
    {
     "name": "stdout",
     "output_type": "stream",
     "text": [
      "iNeuron\n"
     ]
    }
   ],
   "source": [
    "'''\n",
    "Q28. Write a code to get the desired output of the following\n",
    "\n",
    "string = \"Big Data iNeuron\"\n",
    "desired_output = \"iNeuron\"\n",
    "'''\n",
    "str=\"Big Data iNeuron\"\n",
    "ind=str.find('iNeuron')\n",
    "print(str[ind:])\n"
   ]
  },
  {
   "cell_type": "code",
   "execution_count": 22,
   "id": "aed12f57",
   "metadata": {},
   "outputs": [
    {
     "name": "stdout",
     "output_type": "stream",
     "text": [
      "norueNi\n"
     ]
    }
   ],
   "source": [
    "'''Q29. Write a code to get the desired output of the following\n",
    "\n",
    "string = \"Big Data iNeuron\"\n",
    "desired_output = \"norueNi\"\n",
    "'''\n",
    "str=\"Big Data iNeuron\"\n",
    "ind=str.find('iNeuron')\n",
    "new_str=str[ind:]\n",
    "print(new_str[::-1])\n"
   ]
  },
  {
   "cell_type": "code",
   "execution_count": 23,
   "id": "5da670cb",
   "metadata": {},
   "outputs": [
    {
     "name": "stdout",
     "output_type": "stream",
     "text": [
      "norueNi ataD giB\n"
     ]
    }
   ],
   "source": [
    "#Q30. Resverse the string given in the above question.\n",
    "#string = \"Big Data iNeuron\"\n",
    "\n",
    "str=\"Big Data iNeuron\"\n",
    "print(str[::-1])\n"
   ]
  },
  {
   "cell_type": "code",
   "execution_count": 35,
   "id": "59508c4e",
   "metadata": {},
   "outputs": [
    {
     "ename": "NameError",
     "evalue": "name 'name' is not defined",
     "output_type": "error",
     "traceback": [
      "\u001b[1;31m---------------------------------------------------------------------------\u001b[0m",
      "\u001b[1;31mNameError\u001b[0m                                 Traceback (most recent call last)",
      "Input \u001b[1;32mIn [35]\u001b[0m, in \u001b[0;36m<cell line: 5>\u001b[1;34m()\u001b[0m\n\u001b[0;32m      3\u001b[0m name\u001b[38;5;241m=\u001b[39m\u001b[38;5;124m'\u001b[39m\u001b[38;5;124mMukesh\u001b[39m\u001b[38;5;124m'\u001b[39m\n\u001b[0;32m      4\u001b[0m \u001b[38;5;28;01mdel\u001b[39;00m name\n\u001b[1;32m----> 5\u001b[0m \u001b[43mname\u001b[49m\n",
      "\u001b[1;31mNameError\u001b[0m: name 'name' is not defined"
     ]
    }
   ],
   "source": [
    "#Q31. How can you delete entire string at once?\n",
    "\n",
    "name='Mukesh'\n",
    "del name\n",
    "name\n",
    "\n"
   ]
  },
  {
   "cell_type": "code",
   "execution_count": null,
   "id": "1ad634ae",
   "metadata": {},
   "outputs": [],
   "source": [
    "#Q32. What is escape sequence?\n",
    "\n",
    "Characters following by \\ (backslash) called escape characters.\n",
    "Escape sequences are the special characters which is used for spacing purpose or to use quotes within string\n",
    "\n"
   ]
  },
  {
   "cell_type": "code",
   "execution_count": 38,
   "id": "17796267",
   "metadata": {},
   "outputs": [],
   "source": [
    "'''\n",
    "Q33. How can you print the below string?\n",
    "\n",
    "'iNeuron's Big Data Course'\n",
    "'''\n",
    "\n",
    "#Here the concept of escape characters comes into pictures. We can use \\' to print above string\n",
    "Str='iNeuron\\'s Big Data Course'\n"
   ]
  },
  {
   "cell_type": "code",
   "execution_count": null,
   "id": "73ded591",
   "metadata": {},
   "outputs": [],
   "source": [
    "Q34. What is a list in Python?\n",
    "\n",
    "List is the indexed collection of hetergenous objects data elements. It can store multipe data types objects within a single\n",
    "entity and can be referenced by using index.\n",
    "\n",
    "l=[22,'Mukesh',False,33.5]"
   ]
  },
  {
   "cell_type": "code",
   "execution_count": 39,
   "id": "0beecb5e",
   "metadata": {},
   "outputs": [],
   "source": [
    "#Q35. How can you create a list in Python?\n",
    "\n",
    "l=[22,'Mukesh',False,33.5]"
   ]
  },
  {
   "cell_type": "code",
   "execution_count": null,
   "id": "5e159327",
   "metadata": {},
   "outputs": [],
   "source": [
    "Q36. How can we access the elements in a list?\n",
    "\n",
    "We can access by using index position of elements."
   ]
  },
  {
   "cell_type": "code",
   "execution_count": 41,
   "id": "81daabe9",
   "metadata": {},
   "outputs": [
    {
     "name": "stdout",
     "output_type": "stream",
     "text": [
      "iNeuron\n"
     ]
    }
   ],
   "source": [
    "'''\n",
    "Q37. Write a code to access the word \"iNeuron\" from the given list.\n",
    "\n",
    "lst = [1,2,3,\"Hi\",[45,54, \"iNeuron\"], \"Big Data\"]\n",
    "'''\n",
    "\n",
    "lst = [1,2,3,\"Hi\",[45,54, \"iNeuron\"], \"Big Data\"]\n",
    "\n",
    "print(lst[4][2])\n"
   ]
  },
  {
   "cell_type": "code",
   "execution_count": 12,
   "id": "051ce660",
   "metadata": {},
   "outputs": [
    {
     "name": "stdout",
     "output_type": "stream",
     "text": [
      "Enter the no of Input values 3\n",
      "Enter values 22\n",
      "Enter values 34\n",
      "Enter values 5\n",
      "Length of List is:  3\n"
     ]
    }
   ],
   "source": [
    "#Q38. Take a list as an input from the user and find the length of the list.\n",
    "\n",
    "\n",
    "No_of_input=int(input(\"Enter the no of Input values \"))\n",
    "lst=[]\n",
    "for i in range(0,No_of_input):\n",
    "    lst.append(input(\"Enter values \"))\n",
    "\n",
    "print('Length of List is: ',len(lst))"
   ]
  },
  {
   "cell_type": "code",
   "execution_count": 15,
   "id": "3409022b",
   "metadata": {},
   "outputs": [
    {
     "name": "stdout",
     "output_type": "stream",
     "text": [
      "['Welcome', 'to', 'Data', 'Big', 'course']\n"
     ]
    }
   ],
   "source": [
    "'''\n",
    "Q39. Add the word \"Big\" in the 3rd index of the given list.\n",
    "\n",
    "lst = [\"Welcome\", \"to\", \"Data\", \"course\"]\n",
    "'''\n",
    "lst = [\"Welcome\", \"to\", \"Data\", \"course\"]\n",
    "lst.insert(3,\"Big\")\n",
    "print(lst)\n"
   ]
  },
  {
   "cell_type": "code",
   "execution_count": null,
   "id": "30e4b720",
   "metadata": {},
   "outputs": [],
   "source": [
    "#Q40. What is a tuple? How is it different from list?\n",
    "\n",
    "Tuple is excatly same as list but the only differences is Immutability. Tuple is also a indexed collection of hetrogenous \n",
    "data elements. Tuple is Immutable means once we defined, we can't reassign values."
   ]
  },
  {
   "cell_type": "code",
   "execution_count": 17,
   "id": "03f57abb",
   "metadata": {},
   "outputs": [],
   "source": [
    "#Q41. How can you create a tuple in Python?\n",
    "\n",
    "tpl=('Mukesh',77,False)"
   ]
  },
  {
   "cell_type": "code",
   "execution_count": 21,
   "id": "4d414cdc",
   "metadata": {},
   "outputs": [
    {
     "ename": "TypeError",
     "evalue": "'tuple' object does not support item assignment",
     "output_type": "error",
     "traceback": [
      "\u001b[1;31m---------------------------------------------------------------------------\u001b[0m",
      "\u001b[1;31mTypeError\u001b[0m                                 Traceback (most recent call last)",
      "Input \u001b[1;32mIn [21]\u001b[0m, in \u001b[0;36m<cell line: 5>\u001b[1;34m()\u001b[0m\n\u001b[0;32m      1\u001b[0m \u001b[38;5;66;03m#Q42. Create a tuple and try to add your name in the tuple. Are you able to do it? Support your answer with reason.\u001b[39;00m\n\u001b[0;32m      3\u001b[0m tpl\u001b[38;5;241m=\u001b[39m(\u001b[38;5;241m33\u001b[39m,\u001b[38;5;28;01mFalse\u001b[39;00m,\u001b[38;5;241m88.7\u001b[39m)\n\u001b[1;32m----> 5\u001b[0m tpl[\u001b[38;5;241m1\u001b[39m]\u001b[38;5;241m=\u001b[39m\u001b[38;5;124m\"\u001b[39m\u001b[38;5;124mMukesh\u001b[39m\u001b[38;5;124m\"\u001b[39m\n",
      "\u001b[1;31mTypeError\u001b[0m: 'tuple' object does not support item assignment"
     ]
    }
   ],
   "source": [
    "#Q42. Create a tuple and try to add your name in the tuple. Are you able to do it? Support your answer with reason.\n",
    "\n",
    "tpl=(33,False,88.7)\n",
    "\n",
    "tpl[1]=\"Mukesh\"\n",
    "\n",
    "Tuple is Immutable, So once we create tuple we can't reassign values to it. "
   ]
  },
  {
   "cell_type": "code",
   "execution_count": 26,
   "id": "4f84ac92",
   "metadata": {},
   "outputs": [
    {
     "data": {
      "text/plain": [
       "('Mukesh', 66, 'Kumar', 33)"
      ]
     },
     "execution_count": 26,
     "metadata": {},
     "output_type": "execute_result"
    }
   ],
   "source": [
    "#Q43. Can two tuple be appended. If yes, write a code for it. If not, why?\n",
    "\n",
    "tpl_1=(\"Mukesh\",66)\n",
    "tpl_2=(\"Kumar\",33)\n",
    "tpl_1+tpl_2\n"
   ]
  },
  {
   "cell_type": "code",
   "execution_count": 40,
   "id": "59c13692",
   "metadata": {},
   "outputs": [
    {
     "name": "stdout",
     "output_type": "stream",
     "text": [
      "Enter Tuple values Mukesh\n"
     ]
    },
    {
     "data": {
      "text/plain": [
       "6"
      ]
     },
     "execution_count": 40,
     "metadata": {},
     "output_type": "execute_result"
    }
   ],
   "source": [
    "#Q44. Take a tuple as an input and print the count of elements in it.\n",
    "\n",
    "\n",
    "tpl= tuple(input(\"Enter Tuple values \"))\n",
    "len(tpl)\n"
   ]
  },
  {
   "cell_type": "code",
   "execution_count": null,
   "id": "e5267f1a",
   "metadata": {},
   "outputs": [],
   "source": [
    "#Q45. What are sets in Python?\n",
    "\n",
    "Set is the unordered, unindexed collection of heterogenous data elements. We can't have duplicates values in set "
   ]
  },
  {
   "cell_type": "code",
   "execution_count": 43,
   "id": "335b57b9",
   "metadata": {},
   "outputs": [],
   "source": [
    "#Q46. How can you create a set?\n",
    "\n",
    "s={'Mukesh',33,False}\n"
   ]
  },
  {
   "cell_type": "code",
   "execution_count": 48,
   "id": "2005c173",
   "metadata": {},
   "outputs": [
    {
     "data": {
      "text/plain": [
       "{33, False, 'Mukesh', 'iNeuron'}"
      ]
     },
     "execution_count": 48,
     "metadata": {},
     "output_type": "execute_result"
    }
   ],
   "source": [
    "#Q47. Create a set and add \"iNeuron\" in your set.\n",
    "\n",
    "s={'Mukesh',33,False}\n",
    "\n",
    "s.add(\"iNeuron\")\n",
    "s"
   ]
  },
  {
   "cell_type": "code",
   "execution_count": 57,
   "id": "ebf15705",
   "metadata": {},
   "outputs": [
    {
     "data": {
      "text/plain": [
       "{33, 44.7, 55, False, 'Kumar', 'Mukesh'}"
      ]
     },
     "execution_count": 57,
     "metadata": {},
     "output_type": "execute_result"
    }
   ],
   "source": [
    "#Q48. Try to add multiple values using add() function.\n",
    "\n",
    "s={'Mukesh',33,False}\n",
    "s.add(\"Kumar\")\n",
    "s.add(55)\n",
    "s.add(44.7)\n",
    "s"
   ]
  },
  {
   "cell_type": "code",
   "execution_count": null,
   "id": "10fd5f64",
   "metadata": {},
   "outputs": [],
   "source": [
    "#Q49. How is update() different from add()?\n",
    "\n"
   ]
  },
  {
   "cell_type": "code",
   "execution_count": null,
   "id": "8628c800",
   "metadata": {},
   "outputs": [],
   "source": [
    "#Q50. What is clear() in sets?\n",
    "\n",
    "Clear method is used to clear all the elements within set. It won't delete set variable just data will be wiped out.\n"
   ]
  },
  {
   "cell_type": "code",
   "execution_count": null,
   "id": "4c6cda4b",
   "metadata": {},
   "outputs": [],
   "source": [
    "#Q51. What is frozen set?\n",
    "\n",
    "The frozenset function returns an unchangeable frozenset object which is like a set object, only unchangeable. We can't assign any values\n",
    "to frozenset objects\n"
   ]
  },
  {
   "cell_type": "code",
   "execution_count": null,
   "id": "e62baf78",
   "metadata": {},
   "outputs": [],
   "source": [
    "#Q52. How is frozen set different from set?\n",
    "\n",
    "Frozenset is similar to set in Python, only differences is frozensets are immutable,\n",
    "which means that once generated, elements from the frozenset cannot be added or removed."
   ]
  },
  {
   "cell_type": "code",
   "execution_count": 58,
   "id": "e75ae5b1",
   "metadata": {},
   "outputs": [
    {
     "data": {
      "text/plain": [
       "{33, 77, 99, 'Kumar', 'Mukesh'}"
      ]
     },
     "execution_count": 58,
     "metadata": {},
     "output_type": "execute_result"
    }
   ],
   "source": [
    "#Q53. What is union() in sets? Explain via code.\n",
    "\n",
    "#Union is usefull when we want to combined two different sets into one set. Common values in sets will be counted one times in final\n",
    "#set.\n",
    "\n",
    "s1={\"Mukesh\",77,99}\n",
    "s2={\"Kumar\",33,99}\n",
    "\n",
    "s1.union(s2)\n"
   ]
  },
  {
   "cell_type": "code",
   "execution_count": 61,
   "id": "d3b4df23",
   "metadata": {},
   "outputs": [
    {
     "data": {
      "text/plain": [
       "{99}"
      ]
     },
     "execution_count": 61,
     "metadata": {},
     "output_type": "execute_result"
    }
   ],
   "source": [
    "#Q54. What is intersection() in sets? Explain via code.\n",
    "\n",
    "#Intersection will return the common values between two different sets. \n",
    "\n",
    "s1={\"Mukesh\",77,99}\n",
    "s2={\"Kumar\",33,99}\n",
    "\n",
    "s1.intersection(s2)"
   ]
  },
  {
   "cell_type": "code",
   "execution_count": null,
   "id": "9fdf6cfe",
   "metadata": {},
   "outputs": [],
   "source": [
    "#Q55. What is dictionary in Python?\n",
    "\n",
    "Dictionary is the pre defined data structure which store data in key values pairs."
   ]
  },
  {
   "cell_type": "code",
   "execution_count": null,
   "id": "9344dc54",
   "metadata": {},
   "outputs": [],
   "source": [
    "#Q56. How is dictionary different from all other data structures.\n",
    "\n",
    "The major differences is All others data structures store data and we can use index to get it but In Dictionary data stored in\n",
    "key values pairs. So user can use key to retrieve corresponding values from Dict."
   ]
  },
  {
   "cell_type": "code",
   "execution_count": 70,
   "id": "d499efe7",
   "metadata": {},
   "outputs": [
    {
     "data": {
      "text/plain": [
       "{'name': 'Mukesh', 'Add': 'Bettiah'}"
      ]
     },
     "execution_count": 70,
     "metadata": {},
     "output_type": "execute_result"
    }
   ],
   "source": [
    "#Q57. How can we delare a dictionary in Python?\n",
    "\n",
    "d={\"name\":\"Mukesh\",\"Add\":\"Bettiah\"}\n",
    "d"
   ]
  },
  {
   "cell_type": "code",
   "execution_count": null,
   "id": "4945982a",
   "metadata": {},
   "outputs": [],
   "source": [
    "'''\n",
    "Q58. What will the output of the following?\n",
    "\n",
    "var = {}\n",
    "print(type(var))\n",
    "'''\n",
    "--> Dict\n"
   ]
  },
  {
   "cell_type": "code",
   "execution_count": 73,
   "id": "f2eec4c6",
   "metadata": {},
   "outputs": [
    {
     "data": {
      "text/plain": [
       "{'name': 'Mukesh', 'Add': 'Bettiah', 'Ph': '9907'}"
      ]
     },
     "execution_count": 73,
     "metadata": {},
     "output_type": "execute_result"
    }
   ],
   "source": [
    "#Q59. How can we add an element in a dictionary?\n",
    "\n",
    "d={\"name\":\"Mukesh\",\"Add\":\"Bettiah\"}\n",
    "d[\"Ph\"]=\"9907\"\n",
    "d"
   ]
  },
  {
   "cell_type": "code",
   "execution_count": 83,
   "id": "8679b852",
   "metadata": {},
   "outputs": [
    {
     "name": "stdout",
     "output_type": "stream",
     "text": [
      "name Mukesh\n",
      "Add Bettiah\n"
     ]
    }
   ],
   "source": [
    "#Q60. Create a dictionary and access all the values in that dictionary.\n",
    "\n",
    "d={\"name\":\"Mukesh\",\"Add\":\"Bettiah\"}\n",
    "\n",
    "for i,j in d.items():\n",
    " print(i,j)\n"
   ]
  },
  {
   "cell_type": "code",
   "execution_count": 97,
   "id": "f1c8af04",
   "metadata": {},
   "outputs": [
    {
     "name": "stdout",
     "output_type": "stream",
     "text": [
      "Person1 {'Name': 'Mukesh', 'Add': 'BTH'}\n",
      "Person2 {'Name': 'Ravi', 'Add': 'DLI'}\n"
     ]
    }
   ],
   "source": [
    "#Q61. Create a nested dictionary and access all the element in the inner dictionary.\n",
    "\n",
    "d={\"Person1\":{\"Name\":\"Mukesh\",\"Add\":\"BTH\"}, \"Person2\":{\"Name\":\"Ravi\",\"Add\":\"DLI\"}}\n",
    "\n",
    "for i,j in d.items():\n",
    "    print(i,j)\n"
   ]
  },
  {
   "cell_type": "code",
   "execution_count": 89,
   "id": "c34f6718",
   "metadata": {},
   "outputs": [
    {
     "data": {
      "text/plain": [
       "'Mukesh'"
      ]
     },
     "execution_count": 89,
     "metadata": {},
     "output_type": "execute_result"
    }
   ],
   "source": [
    "#Q62. What is the use of get() function?\n",
    "\n",
    "Get function is used to get values from the specified keys.\n"
   ]
  },
  {
   "cell_type": "code",
   "execution_count": null,
   "id": "9fecf7b1",
   "metadata": {},
   "outputs": [],
   "source": [
    "#Q63. What is the use of items() function?\n",
    "\n",
    "The items() method returns a view object. The view object contains the key-value pairs of the dictionary, as tuples in a list."
   ]
  },
  {
   "cell_type": "code",
   "execution_count": 103,
   "id": "b27b08be",
   "metadata": {},
   "outputs": [
    {
     "data": {
      "text/plain": [
       "{'Age': 66}"
      ]
     },
     "execution_count": 103,
     "metadata": {},
     "output_type": "execute_result"
    }
   ],
   "source": [
    "#Q64. What is the use of pop() function?\n",
    "pop function removes values form the specified key/index and return same values. \n",
    "\n",
    "l=[33,55,88]\n",
    "d={\"name\":\"mukesh\",\"Age\":66}\n",
    "l.pop(1)\n",
    "l\n",
    "d.pop(\"name\")\n",
    "d\n"
   ]
  },
  {
   "cell_type": "code",
   "execution_count": 107,
   "id": "b426a515",
   "metadata": {},
   "outputs": [
    {
     "data": {
      "text/plain": [
       "{'name': 'mukesh'}"
      ]
     },
     "execution_count": 107,
     "metadata": {},
     "output_type": "execute_result"
    }
   ],
   "source": [
    "#Q65. What is the use of popitems() function?\n",
    "\n",
    "So pop function remove last inserted values in dictionary.\n",
    "d={\"name\":\"mukesh\",\"Age\":66}\n",
    "d.popitem()\n",
    "d"
   ]
  },
  {
   "cell_type": "code",
   "execution_count": null,
   "id": "f39de9fd",
   "metadata": {},
   "outputs": [],
   "source": [
    "#Q66. What is the use of keys() function?\n",
    "\n",
    "Key function returns the keys of dictionary as a list. So we can use the returend key to get the corresponding values.\n"
   ]
  },
  {
   "cell_type": "code",
   "execution_count": null,
   "id": "87d60755",
   "metadata": {},
   "outputs": [],
   "source": [
    "#Q67. What is the use of values() function?\n",
    "\n",
    "Values function return values of dictionary as a List."
   ]
  },
  {
   "cell_type": "code",
   "execution_count": null,
   "id": "bc14de5d",
   "metadata": {},
   "outputs": [],
   "source": [
    "#Q68. What are loops in Python?\n",
    "\n",
    "Loops is the iterative ststements which executes untill the given is False."
   ]
  },
  {
   "cell_type": "code",
   "execution_count": null,
   "id": "e035ac29",
   "metadata": {},
   "outputs": [],
   "source": [
    "#Q69. How many type of loop are there in Python?\n",
    "\n",
    "Two types of loops in python:\n",
    "1. for loop\n",
    "2. while loop\n",
    "    "
   ]
  },
  {
   "cell_type": "code",
   "execution_count": null,
   "id": "0d29dbd7",
   "metadata": {},
   "outputs": [],
   "source": [
    "#Q70. What is the difference between for and while loops?\n",
    "\n",
    "for will be used when we know the no of iteration that the loop is going to run, But in case of while we don't know the no \n",
    "of iteration beforehead."
   ]
  },
  {
   "cell_type": "code",
   "execution_count": null,
   "id": "a14d8ba8",
   "metadata": {},
   "outputs": [],
   "source": [
    "#Q71. What is the use of continue statement?\n",
    "\n",
    "Continue statement skip the current execution and continue for next iteration."
   ]
  },
  {
   "cell_type": "code",
   "execution_count": null,
   "id": "e5c0ce7f",
   "metadata": {},
   "outputs": [],
   "source": [
    "#Q72. What is the use of break statement?\n",
    "\n",
    "Break statement is used to stop loop iteration and come out from loop when encountered."
   ]
  },
  {
   "cell_type": "code",
   "execution_count": null,
   "id": "1678a004",
   "metadata": {},
   "outputs": [],
   "source": [
    "#Q73. What is the use of pass statement?\n",
    "\n",
    "The pass statement is used as a placeholder for future code. When the pass statement is executed, nothing happens, but you avoid getting an error when empty\n",
    "code is not allowed."
   ]
  },
  {
   "cell_type": "code",
   "execution_count": null,
   "id": "7253aa06",
   "metadata": {},
   "outputs": [],
   "source": [
    "#Q74. What is the use of range() function?\n",
    "\n",
    "Range function return the no of sequences starting from 0 to the specified number with the step size of 1."
   ]
  },
  {
   "cell_type": "code",
   "execution_count": null,
   "id": "add7dfd4",
   "metadata": {},
   "outputs": [],
   "source": [
    "#Q75. How can you loop over a dictionary?\n",
    "\n",
    "To iterate over dictionary, we need two loop variable to access keys as well values\n",
    "\n",
    "d={\"Person1\":{\"Name\":\"Mukesh\",\"Add\":\"BTH\"}, \"Person2\":{\"Name\":\"Ravi\",\"Add\":\"DLI\"}}\n",
    "\n",
    "for i,j in d.items():\n",
    "    print(i,j)\n"
   ]
  },
  {
   "cell_type": "code",
   "execution_count": 5,
   "id": "90959d27",
   "metadata": {},
   "outputs": [
    {
     "name": "stdout",
     "output_type": "stream",
     "text": [
      "Enter a Number: 0\n",
      "1\n"
     ]
    }
   ],
   "source": [
    "#Q76. Write a Python program to find the factorial of a given number.\n",
    "\n",
    "input_no=int(input(\"Enter a Number: \"))\n",
    "fact=1\n",
    "n=1\n",
    "while(input_no>0):\n",
    " if(input_no==1 | input_no==0 ):\n",
    "  print(n)\n",
    " fact=fact*input_no\n",
    " input_no=input_no-1\n",
    "    \n",
    "print(fact)\n",
    "\n"
   ]
  },
  {
   "cell_type": "code",
   "execution_count": 11,
   "id": "84f66d4f",
   "metadata": {},
   "outputs": [
    {
     "name": "stdout",
     "output_type": "stream",
     "text": [
      "Enter principle Number100\n",
      "Enter Year1\n",
      "10.0\n"
     ]
    }
   ],
   "source": [
    "#Q77. Write a Python program to calculate the simple interest. Formula to calculate simple interest is SI = (PRT)/100\n",
    "\n",
    "Prncpl=int(input(\"Enter principle Number\"))\n",
    "year=int(input(\"Enter Year\"))\n",
    "Rate=10\n",
    "SI=(year*Rate*Prncpl)/100\n",
    "print(SI)\n",
    "\n",
    "\n"
   ]
  },
  {
   "cell_type": "code",
   "execution_count": 37,
   "id": "bc631142",
   "metadata": {},
   "outputs": [
    {
     "name": "stdout",
     "output_type": "stream",
     "text": [
      "Enter Principle Amount1000\n",
      "Enter Time Period2\n"
     ]
    },
    {
     "data": {
      "text/plain": [
       "1100.0"
      ]
     },
     "execution_count": 37,
     "metadata": {},
     "output_type": "execute_result"
    }
   ],
   "source": [
    "#Q78. Write a Python program to calculate the compound interest. Formula of compound interest is A = P(1+ R/100)^t.\n",
    "\n",
    "\n",
    "def compound_Int(p,t):\n",
    "    rate=10\n",
    "    c_int= (1+rate/100)\n",
    "    fin=c_int*p\n",
    "    return fin\n",
    "\n",
    "pri=int(input(\"Enter Principle Amount\"))\n",
    "time=int(input(\"Enter Time Period\"))\n",
    "compound_Int(pri, time)\n",
    "\n"
   ]
  },
  {
   "cell_type": "code",
   "execution_count": 63,
   "id": "f199393c",
   "metadata": {},
   "outputs": [
    {
     "name": "stdout",
     "output_type": "stream",
     "text": [
      "Enter A Number: 3\n",
      "3 is PrimeNumber\n"
     ]
    }
   ],
   "source": [
    "#Q79. Write a Python program to check if a number is prime or not.\n",
    "\n",
    "\n",
    "def IsPrime(no):\n",
    "    if(no==0):\n",
    "        print(\"Neither Prime nor Composite Number\")\n",
    "    \n",
    "    count=0\n",
    "    for i in range(1,no+1):\n",
    "        \n",
    "        if(no%i==0):\n",
    "            count=count+1\n",
    "    if(count==2):\n",
    "     print(no, \"is PrimeNumber\")\n",
    "    else:\n",
    "     print(\"Not a Prime\")\n",
    "\n",
    "input_no=int(input(\"Enter A Number: \"))\n",
    "IsPrime(input_no)\n",
    "            "
   ]
  },
  {
   "cell_type": "code",
   "execution_count": 3,
   "id": "63c7641e",
   "metadata": {},
   "outputs": [
    {
     "name": "stdout",
     "output_type": "stream",
     "text": [
      "Enter A Number222\n",
      "Not a ArmStrong Number\n"
     ]
    }
   ],
   "source": [
    "#Q80. Write a Python program to check Armstrong Number.\n",
    "\n",
    "def ISArmstrong(no):\n",
    "    sum_val=0\n",
    "    while(no>0):\n",
    "        a=no%10\n",
    "        sum_val=sum_val+(a**3)\n",
    "        no=no//10\n",
    "\n",
    "    return sum_val    \n",
    "  \n",
    "input_no=int(input(\"Enter A Number\"))\n",
    "num=ISArmstrong(153)\n",
    "if(num==input_no):\n",
    "    print(\"ArmStrong Number\")\n",
    "else:\n",
    "    print(\"Not a ArmStrong Number\")"
   ]
  },
  {
   "cell_type": "code",
   "execution_count": 23,
   "id": "f69289f0",
   "metadata": {},
   "outputs": [
    {
     "name": "stdout",
     "output_type": "stream",
     "text": [
      "Enter the no of Fibbonacci seried want to print10\n",
      "1\n",
      "2\n",
      "3\n",
      "5\n",
      "8\n",
      "13\n",
      "21\n",
      "34\n",
      "55\n",
      "89\n"
     ]
    }
   ],
   "source": [
    "#Q81. Write a Python program to find the n-th Fibonacci Number.\n",
    "\n",
    "num1=0\n",
    "num2=1\n",
    "sum=0\n",
    "input_no=int(input(\"Enter the no of Fibbonacci seried want to print\"))\n",
    "\n",
    "if(input_no==0):\n",
    "    print(num1)\n",
    "if(input_no==1):\n",
    "    print(num2)\n",
    "            \n",
    "for i in range(1,input_no+1):\n",
    "   if(input_no>=2):\n",
    "     sum=num1+num2\n",
    "     num1=num2\n",
    "     num2=sum\n",
    "     print(sum)"
   ]
  },
  {
   "cell_type": "code",
   "execution_count": 24,
   "id": "df40e982",
   "metadata": {},
   "outputs": [
    {
     "data": {
      "text/plain": [
       "[33, 44, 100, 'mukesh']"
      ]
     },
     "execution_count": 24,
     "metadata": {},
     "output_type": "execute_result"
    }
   ],
   "source": [
    "#Q82. Write a Python program to interchange the first and last element in a list.\n",
    "\n",
    "l=[\"mukesh\",44,100,33]\n",
    "\n",
    "temp=l[0]\n",
    "l[0]=l[3]\n",
    "l[3]=temp\n",
    "l\n"
   ]
  },
  {
   "cell_type": "code",
   "execution_count": 75,
   "id": "76efc3ed",
   "metadata": {},
   "outputs": [
    {
     "data": {
      "text/plain": [
       "1"
      ]
     },
     "execution_count": 75,
     "metadata": {},
     "output_type": "execute_result"
    }
   ],
   "source": [
    "#Q83. Write a Python program to swap two elements in a list.\n",
    "\n",
    "l=[\"mukesh\",44,100,33]\n",
    "\n",
    "temp=l[0]\n",
    "l[0]=l[3]\n",
    "l[3]=temp\n",
    "l"
   ]
  },
  {
   "cell_type": "code",
   "execution_count": 31,
   "id": "2388d317",
   "metadata": {},
   "outputs": [
    {
     "name": "stdout",
     "output_type": "stream",
     "text": [
      "Enter your No1\n"
     ]
    },
    {
     "data": {
      "text/plain": [
       "[99]"
      ]
     },
     "execution_count": 31,
     "metadata": {},
     "output_type": "execute_result"
    }
   ],
   "source": [
    "#Q84. Write a Python program to find N largest element from a list.\n",
    "\n",
    "l=[22,99,55,66,88]\n",
    "no=int(input(\"Enter your No\"))\n",
    "\n",
    "l.sort()\n",
    "l[-no:]\n"
   ]
  },
  {
   "cell_type": "code",
   "execution_count": 40,
   "id": "0f9f7046",
   "metadata": {},
   "outputs": [
    {
     "name": "stdout",
     "output_type": "stream",
     "text": [
      "[22, 121, 176, 242, 330]\n"
     ]
    }
   ],
   "source": [
    "#Q85. Write a Python program to find cumulative sum of a list.\n",
    "\n",
    "l=[22,99,55,66,88]\n",
    "\n",
    "new_list=[]\n",
    "j=0\n",
    "for i in l:\n",
    "    j=j+i\n",
    "    new_list.append(j)\n",
    "     \n",
    "print(new_list)\n",
    "\n",
    "\n"
   ]
  },
  {
   "cell_type": "code",
   "execution_count": 47,
   "id": "8d43be47",
   "metadata": {},
   "outputs": [
    {
     "name": "stdout",
     "output_type": "stream",
     "text": [
      "Enter a string: mam\n",
      "Palindrome String\n"
     ]
    }
   ],
   "source": [
    "#Q86. Write a Python program to check if a string is palindrome or not.\n",
    "\n",
    "name=input(\"Enter a string: \")\n",
    "\n",
    "rev=name[::-1]\n",
    "if(name==rev):\n",
    " print(\"Palindrome String\")\n",
    "else:\n",
    "    print(\"Not a Palindrome\")\n"
   ]
  },
  {
   "cell_type": "code",
   "execution_count": 75,
   "id": "c4d80a58",
   "metadata": {},
   "outputs": [
    {
     "name": "stdout",
     "output_type": "stream",
     "text": [
      "Enter index position u want to remoce: 2\n"
     ]
    },
    {
     "data": {
      "text/plain": [
       "'Muesh'"
      ]
     },
     "execution_count": 75,
     "metadata": {},
     "output_type": "execute_result"
    }
   ],
   "source": [
    "#Q87. Write a Python program to remove i'th element from a string.\n",
    "\n",
    "ind=int(input(\"Enter index position u want to remoce: \"))\n",
    "\n",
    "val=name[ind]\n",
    "\n",
    "new_str=name.replace(val,'')\n",
    "new_str"
   ]
  },
  {
   "cell_type": "code",
   "execution_count": 82,
   "id": "38b1905c",
   "metadata": {},
   "outputs": [
    {
     "name": "stdout",
     "output_type": "stream",
     "text": [
      "Substring present\n"
     ]
    }
   ],
   "source": [
    "#Q88. Write a Python program to check if a substring is present in a given string.\n",
    "\n",
    "str=\"I am the best\"\n",
    "check=\"best\"\n",
    "if(str.find(check)>0):\n",
    "  print(\"Substring present\")\n",
    "else:\n",
    "      print(\"Substring Not present\")\n"
   ]
  },
  {
   "cell_type": "code",
   "execution_count": 85,
   "id": "03b58907",
   "metadata": {},
   "outputs": [],
   "source": [
    "#Q89. Write a Python program to find words which are greater than given length k.\n",
    "\n",
    "\\Need Explanation"
   ]
  },
  {
   "cell_type": "code",
   "execution_count": 90,
   "id": "734d406c",
   "metadata": {},
   "outputs": [
    {
     "data": {
      "text/plain": [
       "{'Mukesh', 'Ravi'}"
      ]
     },
     "execution_count": 90,
     "metadata": {},
     "output_type": "execute_result"
    }
   ],
   "source": [
    "#Q90. Write a Python program to extract unquire dictionary values.\n",
    "\n",
    "d={\"Name1\":\"Mukesh\",\"Name2\":\"Mukesh\",\"Name3\":\"Ravi\"}\n",
    "d1=set(d.values())\n",
    "d1"
   ]
  },
  {
   "cell_type": "code",
   "execution_count": 95,
   "id": "281dbfb6",
   "metadata": {},
   "outputs": [
    {
     "data": {
      "text/plain": [
       "{'age': 22, 'Name': 'Mukesh', 'Dept': 'Dev'}"
      ]
     },
     "execution_count": 95,
     "metadata": {},
     "output_type": "execute_result"
    }
   ],
   "source": [
    "#Q91. Write a Python program to merge two dictionary.\n",
    "\n",
    "d1={\"age\":22,\"Name\":\"Mukesh\"}\n",
    "d2={\"Dept\":\"Dev\"}\n",
    "\n",
    "d1.update(d2)\n",
    "d1"
   ]
  },
  {
   "cell_type": "code",
   "execution_count": 102,
   "id": "366fded0",
   "metadata": {},
   "outputs": [
    {
     "name": "stdout",
     "output_type": "stream",
     "text": [
      "{'Sachin': [10], 'MSD': [7], 'Kohli': [18], 'Rohit': [45]}\n"
     ]
    }
   ],
   "source": [
    "'''\n",
    "Q92. Write a Python program to convert a list of tuples into dictionary.\n",
    "\n",
    "Input : [('Sachin', 10), ('MSD', 7), ('Kohli', 18), ('Rohit', 45)]\n",
    "Output : {'Sachin': 10, 'MSD': 7, 'Kohli': 18, 'Rohit': 45}\n",
    "'''\n",
    "lst= [('Sachin', 10), ('MSD', 7), ('Kohli', 18), ('Rohit', 45)]\n",
    "dict_1={}\n",
    "  \n",
    "for i,j in lst:\n",
    "    dict_1.setdefault(i, []).append(j)\n",
    "print(dict_1)"
   ]
  },
  {
   "cell_type": "code",
   "execution_count": null,
   "id": "7055b607",
   "metadata": {},
   "outputs": [],
   "source": [
    "'''\n",
    "Q93. Write a Python program to create a list of tuples from given list having number and its cube in each tuple.\n",
    "\n",
    "Input: list = [9, 5, 6]\n",
    "Output: [(9, 729), (5, 125), (6, 216)]\n",
    "'''\n",
    "\n"
   ]
  }
 ],
 "metadata": {
  "kernelspec": {
   "display_name": "Python 3 (ipykernel)",
   "language": "python",
   "name": "python3"
  },
  "language_info": {
   "codemirror_mode": {
    "name": "ipython",
    "version": 3
   },
   "file_extension": ".py",
   "mimetype": "text/x-python",
   "name": "python",
   "nbconvert_exporter": "python",
   "pygments_lexer": "ipython3",
   "version": "3.9.12"
  }
 },
 "nbformat": 4,
 "nbformat_minor": 5
}
